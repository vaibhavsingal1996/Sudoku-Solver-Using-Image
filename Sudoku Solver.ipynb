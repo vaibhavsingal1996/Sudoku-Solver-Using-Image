{
 "cells": [
  {
   "cell_type": "code",
   "execution_count": 39,
   "metadata": {},
   "outputs": [],
   "source": [
    "import numpy as np\n",
    "import pandas as pd\n",
    "from DancingLinksBundle.makelistgrid import makelistgrid as makeListGrid\n",
    "from DancingLinksBundle.nodeclass import node\n",
    "import DancingLinksBundle.DLX as DLX\n",
    "import DancingLinksBundle.Sudoku_to_exact_cover as sudokuToExactCover"
   ]
  },
  {
   "cell_type": "code",
   "execution_count": 8,
   "metadata": {
    "collapsed": true
   },
   "outputs": [],
   "source": [
    "n = 9\n",
    "m = n"
   ]
  },
  {
   "cell_type": "code",
   "execution_count": 37,
   "metadata": {},
   "outputs": [
    {
     "name": "stdout",
     "output_type": "stream",
     "text": [
      "328\n"
     ]
    }
   ],
   "source": [
    "#INPUT THE DATA SPARSE MATRIX\n",
    "matrix = np.zeros((m,n))\n",
    "f = open(\"./Sample Sudoku Inputs/easy.txt\")\n",
    "data = f.read()\n",
    "print (len(data))\n",
    "boards = []\n",
    "#print (board.shape)\n",
    "break_point = data[n*n]\n",
    "temp = np.zeros((n*n,))\n",
    "index = 0\n",
    "for ix in range(len(data)):\n",
    "    if data[ix] == break_point:\n",
    "        boards.append(temp)\n",
    "        temp = np.zeros((n*n,))\n",
    "        index = 0\n",
    "        continue\n",
    "    if data[ix] != \".\":\n",
    "        temp[index] = int(data[ix])\n",
    "    index += 1\n",
    "#print (boards)\n",
    "#print (data)"
   ]
  },
  {
   "cell_type": "code",
   "execution_count": 35,
   "metadata": {},
   "outputs": [
    {
     "name": "stdout",
     "output_type": "stream",
     "text": [
      "[ 0.  0.  5.  0.  0.  0.  0.  3.  0.  0.  0.  0.  9.  0.  0.  0.  8.  0.\n",
      "  0.  0.  0.  5.  7.  0.  0.  0.  0.  0.  9.  0.  7.  0.  0.  0.  0.  3.\n",
      "  0.  7.  0.  1.  3.  0.  0.  5.  0.  3.  0.  2.  0.  0.  0.  0.  0.  0.\n",
      "  2.  0.  0.  0.  8.  0.  0.  0.  0.  0.  0.  1.  0.  0.  9.  4.  2.  5.\n",
      "  9.  0.  0.  0.  0.  7.  8.  0.  0.]\n"
     ]
    }
   ],
   "source": [
    "print (boards[0])"
   ]
  },
  {
   "cell_type": "code",
   "execution_count": 48,
   "metadata": {},
   "outputs": [
    {
     "name": "stdout",
     "output_type": "stream",
     "text": [
      "4 2 5 6 1 8 7 3 9\n",
      "1 3 7 9 2 4 5 8 6\n",
      "8 6 9 5 7 3 1 4 2\n",
      "5 9 8 7 4 6 2 1 3\n",
      "6 7 4 1 3 2 9 5 8\n",
      "3 1 2 8 9 5 6 7 4\n",
      "2 5 6 4 8 1 3 9 7\n",
      "7 8 1 3 6 9 4 2 5\n",
      "9 4 3 2 5 7 8 6 1\n",
      "\n",
      "7 9 1 3 5 6 4 8 2\n",
      "8 5 6 2 1 4 9 3 7\n",
      "3 2 4 8 9 7 6 1 5\n",
      "5 6 3 1 8 2 7 4 9\n",
      "4 8 7 6 3 9 5 2 1\n",
      "2 1 9 7 4 5 3 6 8\n",
      "9 3 5 4 2 8 1 7 6\n",
      "1 7 2 9 6 3 8 5 4\n",
      "6 4 8 5 7 1 2 9 3\n",
      "\n",
      "1 2 5 4 6 7 8 3 9\n",
      "8 9 4 2 1 3 7 5 6\n",
      "7 6 3 8 9 5 2 1 4\n",
      "9 5 1 3 2 8 6 4 7\n",
      "6 3 8 7 4 9 5 2 1\n",
      "2 4 7 6 5 1 9 8 3\n",
      "4 7 9 5 3 2 1 6 8\n",
      "3 1 2 9 8 6 4 7 5\n",
      "5 8 6 1 7 4 3 9 2\n",
      "\n",
      "9 8 5 2 1 4 7 6 3\n",
      "1 3 2 7 8 6 4 9 5\n",
      "6 4 7 5 9 3 1 2 8\n",
      "8 2 6 4 3 1 5 7 9\n",
      "3 9 1 8 5 7 6 4 2\n",
      "5 7 4 9 6 2 8 3 1\n",
      "2 6 9 1 4 5 3 8 7\n",
      "4 5 8 3 7 9 2 1 6\n",
      "7 1 3 6 2 8 9 5 4\n",
      "\n"
     ]
    }
   ],
   "source": [
    "for ix in range(len(boards)):\n",
    "    sudoku = boards[ix]\n",
    "    sudoku_binary = sudokuToExactCover.make_sudoku_cover(n=n, sudoku=sudoku)\n",
    "    \n",
    "    #we may need to make columnode, headnode and links separately for all boards but lets just skip it for now and test wether we need to or not\n",
    "    linksmatrix, columnodearray, headnode = makeListGrid(grid=sudoku_binary)\n",
    "    x = DLX.DLX(headnode)\n",
    "    solution = []\n",
    "    if x == []:\n",
    "        print (\"No Solution Possible\")\n",
    "    else:\n",
    "        solution = DLX.printsol(x)\n",
    "    answer = []\n",
    "    for ix in range(len(solution)):\n",
    "        for iy in solution[ix]:\n",
    "            if iy[1]<n*n: #basically a cell is represented by four constraints and we can get our original cell info in (row,col,num)format by just looking at the cell-number constraint, so basically we chose that constraint out of the four and built the usable infodatatype\n",
    "                col = iy[1]%n\n",
    "                row = int(iy[1]/n)\n",
    "                value = iy[0]%n + 1\n",
    "                answer.append((row,col,value))\n",
    "                break\n",
    "    answer.sort(key = lambda x: (x[0],x[1]))\n",
    "    columncount=0\n",
    "    for iy in answer:\n",
    "        print (iy[2]),\n",
    "        columncount = columncount + 1\n",
    "        if (columncount == 9):\n",
    "            columncount = 0\n",
    "            print \n",
    "    print"
   ]
  },
  {
   "cell_type": "code",
   "execution_count": null,
   "metadata": {
    "collapsed": true
   },
   "outputs": [],
   "source": []
  }
 ],
 "metadata": {
  "anaconda-cloud": {},
  "kernelspec": {
   "display_name": "Python 2",
   "language": "python",
   "name": "python2"
  },
  "language_info": {
   "codemirror_mode": {
    "name": "ipython",
    "version": 2
   },
   "file_extension": ".py",
   "mimetype": "text/x-python",
   "name": "python",
   "nbconvert_exporter": "python",
   "pygments_lexer": "ipython2",
   "version": "2.7.10"
  }
 },
 "nbformat": 4,
 "nbformat_minor": 2
}
